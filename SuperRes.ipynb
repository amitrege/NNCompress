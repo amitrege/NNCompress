{
  "nbformat": 4,
  "nbformat_minor": 0,
  "metadata": {
    "colab": {
      "name": "SuperRes.ipynb",
      "version": "0.3.2",
      "provenance": []
    },
    "language_info": {
      "codemirror_mode": {
        "name": "ipython",
        "version": 3
      },
      "file_extension": ".py",
      "mimetype": "text/x-python",
      "name": "python",
      "nbconvert_exporter": "python",
      "pygments_lexer": "ipython3",
      "version": "3.6.6"
    },
    "kernelspec": {
      "display_name": "Python 3",
      "language": "python",
      "name": "python3"
    }
  },
  "cells": [
    {
      "metadata": {
        "id": "B5Wr-f3Z_2Nr",
        "colab_type": "text"
      },
      "cell_type": "markdown",
      "source": [
        "# Setup"
      ]
    },
    {
      "metadata": {
        "id": "R6wJzeng-ekG",
        "colab_type": "code",
        "colab": {}
      },
      "cell_type": "code",
      "source": [
        "# Get CIFAR-10 dataset in .png format\n",
        "wget http://pjreddie.com/media/files/cifar.tgz\n",
        "tar xzf cifar.tgz\n",
        "\n",
        "# Clone ESRGAN repo here\n",
        "!git clone https://github.com/xinntao/ESRGAN.git\n",
        "  \n",
        "# Folders required for loading and storing images \n",
        "!mkdir LR \n",
        "!mkdir results"
      ],
      "execution_count": 0,
      "outputs": []
    },
    {
      "metadata": {
        "id": "lEUOub3t_6wM",
        "colab_type": "text"
      },
      "cell_type": "markdown",
      "source": [
        "# Download Pretrained Models from Drive"
      ]
    },
    {
      "metadata": {
        "id": "jns0gjE2_IyY",
        "colab_type": "code",
        "colab": {}
      },
      "cell_type": "code",
      "source": [
        "# Install the PyDrive wrapper & import libraries.\n",
        "# This only needs to be done once per notebook.\n",
        "!pip install -U -q PyDrive\n",
        "from pydrive.auth import GoogleAuth\n",
        "from pydrive.drive import GoogleDrive\n",
        "from google.colab import auth\n",
        "from oauth2client.client import GoogleCredentials\n",
        "\n",
        "# Authenticate and create the PyDrive client.\n",
        "# This only needs to be done once per notebook.\n",
        "auth.authenticate_user()\n",
        "gauth = GoogleAuth()\n",
        "gauth.credentials = GoogleCredentials.get_application_default()\n",
        "drive = GoogleDrive(gauth)\n",
        "\n",
        "# Download a file based on its file ID.\n",
        "#\n",
        "# A file ID looks like: laggVyWshwcyP6kEI-y_W3P8D26sz\n",
        "file_id = '1mSJ6Z40weL-dnPvi390xDd3uZBCFMeqr'\n",
        "X = drive.CreateFile({'id': file_id})\n",
        "X = X.GetContentFile('ESRGAN/models/RRDB_PSNR.pth')\n",
        "\n",
        "file_id = '1MJFgqXJrMkPdKtiuy7C6xfsU1QIbXEb-'\n",
        "Y = drive.CreateFile({'id': file_id})\n",
        "Y = Y.GetContentFile('ESRGAN/models/RRDB_ESRGAN.pth')"
      ],
      "execution_count": 0,
      "outputs": []
    },
    {
      "metadata": {
        "id": "bG-xjQmjASbt",
        "colab_type": "text"
      },
      "cell_type": "markdown",
      "source": [
        ""
      ]
    },
    {
      "metadata": {
        "id": "lVjJSmH-AStP",
        "colab_type": "code",
        "colab": {}
      },
      "cell_type": "code",
      "source": [
        ""
      ],
      "execution_count": 0,
      "outputs": []
    }
  ]
}